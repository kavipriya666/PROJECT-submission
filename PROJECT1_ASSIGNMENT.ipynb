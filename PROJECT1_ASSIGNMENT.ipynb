{
 "cells": [
  {
   "cell_type": "code",
   "execution_count": 1,
   "metadata": {},
   "outputs": [],
   "source": [
    "from cryptography.fernet import Fernet"
   ]
  },
  {
   "cell_type": "code",
   "execution_count": 2,
   "metadata": {},
   "outputs": [],
   "source": [
    "def generatePassKey():\n",
    "    key= Fernet.generate_key()\n",
    "    secretcode=open(\"code.key\",'wb')\n",
    "    secretcode.write(key)\n",
    "    secretcode.close()"
   ]
  },
  {
   "cell_type": "code",
   "execution_count": 3,
   "metadata": {},
   "outputs": [],
   "source": [
    "generatePassKey()"
   ]
  },
  {
   "cell_type": "code",
   "execution_count": 4,
   "metadata": {},
   "outputs": [],
   "source": [
    "def getMYkey():\n",
    "    secretcode=open(\"code.key\",'rb')\n",
    "    return secretcode.read()"
   ]
  },
  {
   "cell_type": "code",
   "execution_count": 5,
   "metadata": {},
   "outputs": [
    {
     "data": {
      "text/plain": [
       "b'97-joQfDR_aT0kjnVMiMsWD60uJHpMdMXRTKDtlYVL0='"
      ]
     },
     "execution_count": 5,
     "metadata": {},
     "output_type": "execute_result"
    }
   ],
   "source": [
    "getMYkey()"
   ]
  },
  {
   "cell_type": "code",
   "execution_count": 6,
   "metadata": {},
   "outputs": [],
   "source": [
    "def getContentFromUser():\n",
    "    return input(\"Enter the content you want to encrypt\")"
   ]
  },
  {
   "cell_type": "code",
   "execution_count": 7,
   "metadata": {},
   "outputs": [
    {
     "name": "stdout",
     "output_type": "stream",
     "text": [
      "Enter the content you want to encryptI am Kavipriya from Tamil Nadu\n"
     ]
    },
    {
     "data": {
      "text/plain": [
       "'I am Kavipriya from Tamil Nadu'"
      ]
     },
     "execution_count": 7,
     "metadata": {},
     "output_type": "execute_result"
    }
   ],
   "source": [
    "getContentFromUser()"
   ]
  },
  {
   "cell_type": "code",
   "execution_count": 8,
   "metadata": {},
   "outputs": [],
   "source": [
    "def encrypt(message):\n",
    "    key=getMYkey()\n",
    "    finalkey= Fernet(key)\n",
    "    encrypted_Message = finalkey.encrypt(message)\n",
    "    return encrypted_Message"
   ]
  },
  {
   "cell_type": "code",
   "execution_count": 9,
   "metadata": {},
   "outputs": [
    {
     "data": {
      "text/plain": [
       "b'gAAAAABf2NZomkQS4vJ9bxsNT4HzFdTNr0gwQnn2E4rVJBep8UouK_XjVYtOZHpijfXUcsYX_Sm8uA5WXIVIhXiCB09MQhQoY8DRND0eck-x2YJuWSSVSMg_jP3fKVpYjbULdFh7tl0ZKdGDhihb2Mx49m19ktoqnFEGRJKiOZJgMJBK0v6rtUvKu4eOfFwJjUUMIWf-qo3zsr7G2mbdpWbVKjbmlCF4ug=='"
      ]
     },
     "execution_count": 9,
     "metadata": {},
     "output_type": "execute_result"
    }
   ],
   "source": [
    "encrypt(b\"My account number:XYZSDJHBJVBD and the amount that i have credited in your account is RS.50,000/-\")"
   ]
  },
  {
   "cell_type": "code",
   "execution_count": 10,
   "metadata": {},
   "outputs": [],
   "source": [
    "def decrypt(org_message):\n",
    "    key=getMYkey()\n",
    "    finalkey= Fernet(key)\n",
    "    decrypted_Message = finalkey.decrypt(org_message)\n",
    "    return decrypted_Message"
   ]
  },
  {
   "cell_type": "code",
   "execution_count": 11,
   "metadata": {},
   "outputs": [
    {
     "data": {
      "text/plain": [
       "b'My account number:XYZSDJHBJVBD and the amount that i have credited in your account is RS.50,000/-'"
      ]
     },
     "execution_count": 11,
     "metadata": {},
     "output_type": "execute_result"
    }
   ],
   "source": [
    "decrypt(b'gAAAAABf2NZomkQS4vJ9bxsNT4HzFdTNr0gwQnn2E4rVJBep8UouK_XjVYtOZHpijfXUcsYX_Sm8uA5WXIVIhXiCB09MQhQoY8DRND0eck-x2YJuWSSVSMg_jP3fKVpYjbULdFh7tl0ZKdGDhihb2Mx49m19ktoqnFEGRJKiOZJgMJBK0v6rtUvKu4eOfFwJjUUMIWf-qo3zsr7G2mbdpWbVKjbmlCF4ug==')"
   ]
  },
  {
   "cell_type": "code",
   "execution_count": null,
   "metadata": {},
   "outputs": [],
   "source": []
  }
 ],
 "metadata": {
  "kernelspec": {
   "display_name": "Python 3",
   "language": "python",
   "name": "python3"
  },
  "language_info": {
   "codemirror_mode": {
    "name": "ipython",
    "version": 3
   },
   "file_extension": ".py",
   "mimetype": "text/x-python",
   "name": "python",
   "nbconvert_exporter": "python",
   "pygments_lexer": "ipython3",
   "version": "3.7.4"
  }
 },
 "nbformat": 4,
 "nbformat_minor": 2
}
